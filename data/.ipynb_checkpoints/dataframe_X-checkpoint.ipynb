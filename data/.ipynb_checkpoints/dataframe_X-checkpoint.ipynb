{
 "cells": [
  {
   "cell_type": "code",
   "execution_count": 1,
   "id": "520a3741",
   "metadata": {},
   "outputs": [
    {
     "name": "stderr",
     "output_type": "stream",
     "text": [
      "/Users/rociomoreno/opt/anaconda3/lib/python3.9/site-packages/scipy/__init__.py:146: UserWarning: A NumPy version >=1.16.5 and <1.23.0 is required for this version of SciPy (detected version 1.23.4\n",
      "  warnings.warn(f\"A NumPy version >={np_minversion} and <{np_maxversion}\"\n"
     ]
    }
   ],
   "source": [
    "import pandas as pd\n",
    "from sklearn.preprocessing import LabelEncoder, OrdinalEncoder\n",
    "from sklearn.preprocessing import StandardScaler\n",
    "from sklearn.model_selection import train_test_split as tts      "
   ]
  },
  {
   "cell_type": "code",
   "execution_count": 2,
   "id": "6375e585",
   "metadata": {},
   "outputs": [],
   "source": [
    "import pylab as plt"
   ]
  },
  {
   "cell_type": "code",
   "execution_count": 3,
   "id": "285afc9e",
   "metadata": {},
   "outputs": [],
   "source": [
    "import seaborn as sns"
   ]
  },
  {
   "cell_type": "code",
   "execution_count": 4,
   "id": "cf04d10c",
   "metadata": {},
   "outputs": [],
   "source": [
    "import numpy as np"
   ]
  },
  {
   "cell_type": "code",
   "execution_count": 5,
   "id": "1cc8ee1f",
   "metadata": {},
   "outputs": [],
   "source": [
    "salaries_ = pd.read_csv('../data/salaries_data.csv')"
   ]
  },
  {
   "cell_type": "code",
   "execution_count": 6,
   "id": "27914ab6",
   "metadata": {},
   "outputs": [
    {
     "data": {
      "text/plain": [
       "(500, 11)"
      ]
     },
     "execution_count": 6,
     "metadata": {},
     "output_type": "execute_result"
    }
   ],
   "source": [
    "salaries_.shape"
   ]
  },
  {
   "cell_type": "code",
   "execution_count": 7,
   "id": "d45fc74c",
   "metadata": {},
   "outputs": [],
   "source": [
    "testeo = pd.read_csv('../data/testeo.csv')"
   ]
  },
  {
   "cell_type": "code",
   "execution_count": 8,
   "id": "8afd5750",
   "metadata": {},
   "outputs": [
    {
     "data": {
      "text/plain": [
       "(107, 10)"
      ]
     },
     "execution_count": 8,
     "metadata": {},
     "output_type": "execute_result"
    }
   ],
   "source": [
    "testeo.shape"
   ]
  },
  {
   "cell_type": "code",
   "execution_count": 9,
   "id": "4bd7a423",
   "metadata": {},
   "outputs": [],
   "source": [
    "salaries_X = pd.concat([salaries_, testeo])"
   ]
  },
  {
   "cell_type": "code",
   "execution_count": 10,
   "id": "74b87fb2",
   "metadata": {},
   "outputs": [],
   "source": [
    "salaries_X.reset_index(drop = True, inplace = True)"
   ]
  },
  {
   "cell_type": "code",
   "execution_count": 11,
   "id": "197574b8",
   "metadata": {},
   "outputs": [
    {
     "data": {
      "text/plain": [
       "Index(['work_year', 'experience_level', 'employment_type', 'job_title',\n",
       "       'salary', 'salary_currency', 'salary_in_usd', 'employee_residence',\n",
       "       'remote_ratio', 'company_location', 'company_size'],\n",
       "      dtype='object')"
      ]
     },
     "execution_count": 11,
     "metadata": {},
     "output_type": "execute_result"
    }
   ],
   "source": [
    "salaries_X.columns"
   ]
  },
  {
   "cell_type": "code",
   "execution_count": 12,
   "id": "61e51997",
   "metadata": {},
   "outputs": [
    {
     "data": {
      "text/plain": [
       "(607, 11)"
      ]
     },
     "execution_count": 12,
     "metadata": {},
     "output_type": "execute_result"
    }
   ],
   "source": [
    "salaries_X.shape"
   ]
  },
  {
   "cell_type": "code",
   "execution_count": 13,
   "id": "799e8f63",
   "metadata": {},
   "outputs": [],
   "source": [
    "#borro las columnas salary y salary_currency porque ya tenemos la y como salary_in_usd en moneda única"
   ]
  },
  {
   "cell_type": "code",
   "execution_count": 14,
   "id": "7e6db326",
   "metadata": {},
   "outputs": [],
   "source": [
    "salaries_X.drop(['salary', 'salary_currency', 'employee_residence' ], axis = 1, inplace = True)"
   ]
  },
  {
   "cell_type": "code",
   "execution_count": 15,
   "id": "ab50c62c",
   "metadata": {},
   "outputs": [],
   "source": [
    "#salaries_X = salaries.drop('salary_in_usd', axis = 1)"
   ]
  },
  {
   "cell_type": "code",
   "execution_count": 16,
   "id": "f190717e",
   "metadata": {},
   "outputs": [],
   "source": [
    "y = salaries_X.salary_in_usd"
   ]
  },
  {
   "cell_type": "code",
   "execution_count": 17,
   "id": "507572fe",
   "metadata": {},
   "outputs": [],
   "source": [
    "y.dropna(inplace = True)"
   ]
  },
  {
   "cell_type": "code",
   "execution_count": 18,
   "id": "a34bf9d7",
   "metadata": {},
   "outputs": [
    {
     "data": {
      "text/plain": [
       "array(['Data Engineer', 'BI Data Analyst', 'ML Engineer',\n",
       "       'Machine Learning Scientist', 'Data Scientist', 'Data Analyst',\n",
       "       'Machine Learning Engineer', 'Principal Data Scientist',\n",
       "       'Data Engineering Manager', 'Data Analytics Manager',\n",
       "       'Big Data Engineer', 'Research Scientist',\n",
       "       'Machine Learning Developer', 'Computer Vision Engineer',\n",
       "       'AI Scientist', 'Machine Learning Manager', 'Lead Data Scientist',\n",
       "       'Director of Data Science', '3D Computer Vision Researcher',\n",
       "       'Data Specialist', 'Applied Data Scientist',\n",
       "       'Data Science Engineer', 'Head of Data', 'Analytics Engineer',\n",
       "       'ETL Developer', 'Marketing Data Analyst', 'Data Architect',\n",
       "       'Data Science Consultant', 'Principal Data Analyst',\n",
       "       'Head of Data Science', 'Lead Data Engineer',\n",
       "       'Data Science Manager', 'Applied Machine Learning Scientist',\n",
       "       'Lead Data Analyst', 'Cloud Data Engineer',\n",
       "       'Lead Machine Learning Engineer',\n",
       "       'Machine Learning Infrastructure Engineer', 'Big Data Architect',\n",
       "       'Product Data Analyst', 'Business Data Analyst',\n",
       "       'Director of Data Engineering', 'Data Analytics Lead',\n",
       "       'Financial Data Analyst', 'Finance Data Analyst',\n",
       "       'Head of Machine Learning', 'Staff Data Scientist',\n",
       "       'Data Analytics Engineer', 'Computer Vision Software Engineer',\n",
       "       'Principal Data Engineer', 'NLP Engineer'], dtype=object)"
      ]
     },
     "execution_count": 18,
     "metadata": {},
     "output_type": "execute_result"
    }
   ],
   "source": [
    "salaries_X.job_title.unique()"
   ]
  },
  {
   "cell_type": "code",
   "execution_count": 19,
   "id": "cd90e2f3",
   "metadata": {},
   "outputs": [],
   "source": [
    "def title(x):\n",
    "    if 'Machine' in x or 'ML' in x or 'Computer' in x:\n",
    "        return 'Machine Learning'\n",
    "    if 'Engineer' in x or 'Engineering' in x:\n",
    "        return 'Data Engineer'\n",
    "    if 'Analyst' in x or 'Analytics' in x:\n",
    "        return 'Data Analyst'\n",
    "    else:\n",
    "        return 'Data Scientist'"
   ]
  },
  {
   "cell_type": "code",
   "execution_count": 20,
   "id": "2798c6bf",
   "metadata": {},
   "outputs": [
    {
     "data": {
      "text/plain": [
       "Data Scientist                              143\n",
       "Data Engineer                               132\n",
       "Data Analyst                                 97\n",
       "Machine Learning Engineer                    41\n",
       "Research Scientist                           16\n",
       "Data Science Manager                         12\n",
       "Data Architect                               11\n",
       "Big Data Engineer                             8\n",
       "Machine Learning Scientist                    8\n",
       "Director of Data Science                      7\n",
       "AI Scientist                                  7\n",
       "Data Analytics Manager                        7\n",
       "Principal Data Scientist                      7\n",
       "Data Science Consultant                       7\n",
       "Computer Vision Engineer                      6\n",
       "Lead Data Engineer                            6\n",
       "BI Data Analyst                               6\n",
       "ML Engineer                                   6\n",
       "Data Engineering Manager                      5\n",
       "Business Data Analyst                         5\n",
       "Applied Data Scientist                        5\n",
       "Head of Data                                  5\n",
       "Head of Data Science                          4\n",
       "Applied Machine Learning Scientist            4\n",
       "Analytics Engineer                            4\n",
       "Data Analytics Engineer                       4\n",
       "Machine Learning Infrastructure Engineer      3\n",
       "Lead Data Analyst                             3\n",
       "Data Science Engineer                         3\n",
       "Computer Vision Software Engineer             3\n",
       "Lead Data Scientist                           3\n",
       "Principal Data Engineer                       3\n",
       "Machine Learning Developer                    3\n",
       "Principal Data Analyst                        2\n",
       "ETL Developer                                 2\n",
       "Financial Data Analyst                        2\n",
       "Cloud Data Engineer                           2\n",
       "Product Data Analyst                          2\n",
       "Director of Data Engineering                  2\n",
       "Staff Data Scientist                          1\n",
       "Head of Machine Learning                      1\n",
       "Finance Data Analyst                          1\n",
       "Marketing Data Analyst                        1\n",
       "Data Analytics Lead                           1\n",
       "Big Data Architect                            1\n",
       "Lead Machine Learning Engineer                1\n",
       "Data Specialist                               1\n",
       "3D Computer Vision Researcher                 1\n",
       "Machine Learning Manager                      1\n",
       "NLP Engineer                                  1\n",
       "Name: job_title, dtype: int64"
      ]
     },
     "execution_count": 20,
     "metadata": {},
     "output_type": "execute_result"
    }
   ],
   "source": [
    "salaries_X.job_title.value_counts()"
   ]
  },
  {
   "cell_type": "code",
   "execution_count": 21,
   "id": "551e2383",
   "metadata": {},
   "outputs": [],
   "source": [
    "#Convertimos todas las columnas categóricas a números"
   ]
  },
  {
   "cell_type": "code",
   "execution_count": 22,
   "id": "d3da549f",
   "metadata": {},
   "outputs": [],
   "source": [
    "salaries_X.job_title = salaries_X.job_title.apply(title)"
   ]
  },
  {
   "cell_type": "code",
   "execution_count": 23,
   "id": "07fd06be",
   "metadata": {
    "scrolled": false
   },
   "outputs": [
    {
     "data": {
      "text/plain": [
       "job_title\n",
       "Data Scientist      122094.610256\n",
       "Data Engineer       111003.900000\n",
       "Machine Learning    110536.816667\n",
       "Data Analyst        100160.990476\n",
       "Name: salary_in_usd, dtype: float64"
      ]
     },
     "execution_count": 23,
     "metadata": {},
     "output_type": "execute_result"
    }
   ],
   "source": [
    "salaries_X.groupby('job_title').salary_in_usd.mean().sort_values(ascending = False)"
   ]
  },
  {
   "cell_type": "code",
   "execution_count": 24,
   "id": "b024c090",
   "metadata": {},
   "outputs": [],
   "source": [
    "#Primero los trabajos"
   ]
  },
  {
   "cell_type": "code",
   "execution_count": 25,
   "id": "88a0e3f7",
   "metadata": {},
   "outputs": [],
   "source": [
    "trabajo = {'Data Scientist': 1, 'Data Engineer': 2, 'Machine Learning': 3, 'Data Analyst':4}  \n",
    "salaries_X.job_title=salaries_X.job_title.apply(lambda x: trabajo[x])"
   ]
  },
  {
   "cell_type": "code",
   "execution_count": 26,
   "id": "e3f39a37",
   "metadata": {},
   "outputs": [],
   "source": [
    "#salaries_X.job_title=LabelEncoder().fit_transform(salaries_X.job_title)"
   ]
  },
  {
   "cell_type": "code",
   "execution_count": 27,
   "id": "0bd4eded",
   "metadata": {},
   "outputs": [],
   "source": [
    "#Experience_level"
   ]
  },
  {
   "cell_type": "code",
   "execution_count": 28,
   "id": "447c3ada",
   "metadata": {
    "scrolled": true
   },
   "outputs": [
    {
     "data": {
      "text/plain": [
       "experience_level\n",
       "EX    196078.850000\n",
       "SE    136341.794239\n",
       "MI     90384.610465\n",
       "EN     59989.569231\n",
       "Name: salary_in_usd, dtype: float64"
      ]
     },
     "execution_count": 28,
     "metadata": {},
     "output_type": "execute_result"
    }
   ],
   "source": [
    "salaries_X.groupby('experience_level').salary_in_usd.mean().sort_values(ascending = False)"
   ]
  },
  {
   "cell_type": "code",
   "execution_count": 29,
   "id": "17af5448",
   "metadata": {},
   "outputs": [
    {
     "data": {
      "text/plain": [
       "array(['SE', 'MI', 'EN', 'EX'], dtype=object)"
      ]
     },
     "execution_count": 29,
     "metadata": {},
     "output_type": "execute_result"
    }
   ],
   "source": [
    "salaries_X.experience_level.unique()"
   ]
  },
  {
   "cell_type": "code",
   "execution_count": 30,
   "id": "c00cf7c3",
   "metadata": {},
   "outputs": [],
   "source": [
    "experiencia = {'EX' : 4, 'SE' : 3, 'MI' : 2, 'EN' : 1}\n",
    "salaries_X.experience_level=salaries_X.experience_level.apply(lambda x: experiencia[x])"
   ]
  },
  {
   "cell_type": "code",
   "execution_count": 31,
   "id": "1ecec8d1",
   "metadata": {},
   "outputs": [],
   "source": [
    "#salaries_X.experience_level=LabelEncoder().fit_transform(salaries_X.experience_level)"
   ]
  },
  {
   "cell_type": "code",
   "execution_count": 32,
   "id": "1035f019",
   "metadata": {},
   "outputs": [],
   "source": [
    "#Company_size"
   ]
  },
  {
   "cell_type": "code",
   "execution_count": 33,
   "id": "dfd700ca",
   "metadata": {},
   "outputs": [
    {
     "data": {
      "text/plain": [
       "company_size\n",
       "L    121031.375758\n",
       "M    115805.494505\n",
       "S     79242.435484\n",
       "Name: salary_in_usd, dtype: float64"
      ]
     },
     "execution_count": 33,
     "metadata": {},
     "output_type": "execute_result"
    }
   ],
   "source": [
    "salaries_X.groupby('company_size').salary_in_usd.mean().sort_values(ascending = False)"
   ]
  },
  {
   "cell_type": "code",
   "execution_count": 34,
   "id": "8e9f500b",
   "metadata": {},
   "outputs": [
    {
     "data": {
      "text/plain": [
       "array(['M', 'L', 'S'], dtype=object)"
      ]
     },
     "execution_count": 34,
     "metadata": {},
     "output_type": "execute_result"
    }
   ],
   "source": [
    "salaries_X.company_size.unique()"
   ]
  },
  {
   "cell_type": "code",
   "execution_count": 35,
   "id": "2adf44b5",
   "metadata": {},
   "outputs": [],
   "source": [
    "size = {'M' : 3, 'L' : 2, 'S' : 1}\n",
    "salaries_X.company_size=salaries_X.company_size.apply(lambda x: size[x])"
   ]
  },
  {
   "cell_type": "code",
   "execution_count": 36,
   "id": "72b757f5",
   "metadata": {},
   "outputs": [],
   "source": [
    "#Employment_type"
   ]
  },
  {
   "cell_type": "code",
   "execution_count": 37,
   "id": "d1861382",
   "metadata": {},
   "outputs": [],
   "source": [
    "salaries_X.employment_type=LabelEncoder().fit_transform(salaries_X.employment_type)"
   ]
  },
  {
   "cell_type": "code",
   "execution_count": 38,
   "id": "f25f9a8a",
   "metadata": {},
   "outputs": [],
   "source": [
    "#Company_location"
   ]
  },
  {
   "cell_type": "code",
   "execution_count": 39,
   "id": "e0167ddd",
   "metadata": {
    "scrolled": true
   },
   "outputs": [],
   "source": [
    "counts = pd.DataFrame(salaries_X.company_location.value_counts())"
   ]
  },
  {
   "cell_type": "code",
   "execution_count": 40,
   "id": "a6dd1275",
   "metadata": {
    "scrolled": false
   },
   "outputs": [],
   "source": [
    "salaries_X.company_location=LabelEncoder().fit_transform(salaries_X.company_location)"
   ]
  },
  {
   "cell_type": "code",
   "execution_count": 41,
   "id": "a398b728",
   "metadata": {},
   "outputs": [],
   "source": [
    "#company_location"
   ]
  },
  {
   "cell_type": "code",
   "execution_count": 42,
   "id": "84d9d40b",
   "metadata": {},
   "outputs": [],
   "source": [
    "companies_loc = pd.DataFrame(salaries_X.groupby('company_location').salary_in_usd.mean())"
   ]
  },
  {
   "cell_type": "code",
   "execution_count": 43,
   "id": "449344ae",
   "metadata": {
    "scrolled": true
   },
   "outputs": [],
   "source": [
    "companies_loc.reset_index(drop = False, inplace = True)"
   ]
  },
  {
   "cell_type": "code",
   "execution_count": 44,
   "id": "faad5400",
   "metadata": {},
   "outputs": [],
   "source": [
    "companies_loc.fillna(companies_loc.salary_in_usd.mean(), inplace = True)"
   ]
  },
  {
   "cell_type": "code",
   "execution_count": 45,
   "id": "21d2629c",
   "metadata": {},
   "outputs": [],
   "source": [
    "#salaries_X['average_salary_location'] = None"
   ]
  },
  {
   "cell_type": "code",
   "execution_count": 46,
   "id": "f5f685e5",
   "metadata": {},
   "outputs": [
    {
     "data": {
      "text/plain": [
       "'for e in range(len(salaries_X.company_location)):\\n    if salaries_X.company_location[e]:\\n        for t in range(len(companies_loc)):\\n            if companies_loc.company_location[t] == salaries_X.company_location[e]:\\n                salaries_X.average_salary_location[e] = companies_loc.salary_in_usd[t]'"
      ]
     },
     "execution_count": 46,
     "metadata": {},
     "output_type": "execute_result"
    }
   ],
   "source": [
    "'''for e in range(len(salaries_X.company_location)):\n",
    "    if salaries_X.company_location[e]:\n",
    "        for t in range(len(companies_loc)):\n",
    "            if companies_loc.company_location[t] == salaries_X.company_location[e]:\n",
    "                salaries_X.average_salary_location[e] = companies_loc.salary_in_usd[t]'''"
   ]
  },
  {
   "cell_type": "code",
   "execution_count": 47,
   "id": "780a6f34",
   "metadata": {},
   "outputs": [],
   "source": [
    "#salaries_X.drop('salary_in_usd', axis = 1, inplace = True,)"
   ]
  },
  {
   "cell_type": "code",
   "execution_count": 48,
   "id": "f66791b9",
   "metadata": {},
   "outputs": [],
   "source": [
    "#salaries_X.average_salary_location.info()"
   ]
  },
  {
   "cell_type": "code",
   "execution_count": 49,
   "id": "a27d3995",
   "metadata": {},
   "outputs": [],
   "source": [
    "#salaries_X.average_salary_location.fillna(salaries_X.average_salary_location.mean(), inplace = True)"
   ]
  },
  {
   "cell_type": "code",
   "execution_count": 50,
   "id": "dc48fcef",
   "metadata": {},
   "outputs": [],
   "source": [
    "#salaries_X.average_salary_location"
   ]
  },
  {
   "cell_type": "code",
   "execution_count": 51,
   "id": "ae246c2f",
   "metadata": {},
   "outputs": [],
   "source": [
    "#paises = salaries_X.average_salary_location.value_counts().sort_values(ascending = False)"
   ]
  },
  {
   "cell_type": "code",
   "execution_count": 52,
   "id": "a27c097a",
   "metadata": {},
   "outputs": [],
   "source": [
    "#paises = pd.DataFrame(paises)"
   ]
  },
  {
   "cell_type": "code",
   "execution_count": 53,
   "id": "4a911493",
   "metadata": {},
   "outputs": [],
   "source": [
    "#paises.reset_index(drop = False, inplace = True)"
   ]
  },
  {
   "cell_type": "code",
   "execution_count": 54,
   "id": "d0ce2b96",
   "metadata": {},
   "outputs": [],
   "source": [
    "#paises.rename(columns = {'index' : 'salario'}, inplace = True)"
   ]
  },
  {
   "cell_type": "code",
   "execution_count": 55,
   "id": "a6f48a97",
   "metadata": {},
   "outputs": [
    {
     "data": {
      "text/html": [
       "<div>\n",
       "<style scoped>\n",
       "    .dataframe tbody tr th:only-of-type {\n",
       "        vertical-align: middle;\n",
       "    }\n",
       "\n",
       "    .dataframe tbody tr th {\n",
       "        vertical-align: top;\n",
       "    }\n",
       "\n",
       "    .dataframe thead th {\n",
       "        text-align: right;\n",
       "    }\n",
       "</style>\n",
       "<table border=\"1\" class=\"dataframe\">\n",
       "  <thead>\n",
       "    <tr style=\"text-align: right;\">\n",
       "      <th></th>\n",
       "      <th>work_year</th>\n",
       "      <th>experience_level</th>\n",
       "      <th>employment_type</th>\n",
       "      <th>job_title</th>\n",
       "      <th>salary_in_usd</th>\n",
       "      <th>remote_ratio</th>\n",
       "      <th>company_location</th>\n",
       "      <th>company_size</th>\n",
       "    </tr>\n",
       "  </thead>\n",
       "  <tbody>\n",
       "    <tr>\n",
       "      <th>0</th>\n",
       "      <td>2022</td>\n",
       "      <td>3</td>\n",
       "      <td>2</td>\n",
       "      <td>2</td>\n",
       "      <td>140250.0</td>\n",
       "      <td>100</td>\n",
       "      <td>48</td>\n",
       "      <td>3</td>\n",
       "    </tr>\n",
       "    <tr>\n",
       "      <th>1</th>\n",
       "      <td>2022</td>\n",
       "      <td>3</td>\n",
       "      <td>2</td>\n",
       "      <td>2</td>\n",
       "      <td>135000.0</td>\n",
       "      <td>100</td>\n",
       "      <td>48</td>\n",
       "      <td>3</td>\n",
       "    </tr>\n",
       "    <tr>\n",
       "      <th>2</th>\n",
       "      <td>2021</td>\n",
       "      <td>2</td>\n",
       "      <td>2</td>\n",
       "      <td>4</td>\n",
       "      <td>100000.0</td>\n",
       "      <td>100</td>\n",
       "      <td>48</td>\n",
       "      <td>3</td>\n",
       "    </tr>\n",
       "    <tr>\n",
       "      <th>3</th>\n",
       "      <td>2021</td>\n",
       "      <td>2</td>\n",
       "      <td>0</td>\n",
       "      <td>3</td>\n",
       "      <td>270000.0</td>\n",
       "      <td>100</td>\n",
       "      <td>48</td>\n",
       "      <td>2</td>\n",
       "    </tr>\n",
       "    <tr>\n",
       "      <th>4</th>\n",
       "      <td>2021</td>\n",
       "      <td>2</td>\n",
       "      <td>2</td>\n",
       "      <td>2</td>\n",
       "      <td>26005.0</td>\n",
       "      <td>0</td>\n",
       "      <td>48</td>\n",
       "      <td>2</td>\n",
       "    </tr>\n",
       "    <tr>\n",
       "      <th>...</th>\n",
       "      <td>...</td>\n",
       "      <td>...</td>\n",
       "      <td>...</td>\n",
       "      <td>...</td>\n",
       "      <td>...</td>\n",
       "      <td>...</td>\n",
       "      <td>...</td>\n",
       "      <td>...</td>\n",
       "    </tr>\n",
       "    <tr>\n",
       "      <th>602</th>\n",
       "      <td>2022</td>\n",
       "      <td>3</td>\n",
       "      <td>2</td>\n",
       "      <td>4</td>\n",
       "      <td>NaN</td>\n",
       "      <td>100</td>\n",
       "      <td>48</td>\n",
       "      <td>3</td>\n",
       "    </tr>\n",
       "    <tr>\n",
       "      <th>603</th>\n",
       "      <td>2022</td>\n",
       "      <td>3</td>\n",
       "      <td>2</td>\n",
       "      <td>1</td>\n",
       "      <td>NaN</td>\n",
       "      <td>100</td>\n",
       "      <td>48</td>\n",
       "      <td>3</td>\n",
       "    </tr>\n",
       "    <tr>\n",
       "      <th>604</th>\n",
       "      <td>2022</td>\n",
       "      <td>3</td>\n",
       "      <td>2</td>\n",
       "      <td>1</td>\n",
       "      <td>NaN</td>\n",
       "      <td>100</td>\n",
       "      <td>48</td>\n",
       "      <td>3</td>\n",
       "    </tr>\n",
       "    <tr>\n",
       "      <th>605</th>\n",
       "      <td>2022</td>\n",
       "      <td>1</td>\n",
       "      <td>2</td>\n",
       "      <td>4</td>\n",
       "      <td>NaN</td>\n",
       "      <td>0</td>\n",
       "      <td>6</td>\n",
       "      <td>3</td>\n",
       "    </tr>\n",
       "    <tr>\n",
       "      <th>606</th>\n",
       "      <td>2022</td>\n",
       "      <td>3</td>\n",
       "      <td>2</td>\n",
       "      <td>4</td>\n",
       "      <td>NaN</td>\n",
       "      <td>0</td>\n",
       "      <td>48</td>\n",
       "      <td>3</td>\n",
       "    </tr>\n",
       "  </tbody>\n",
       "</table>\n",
       "<p>607 rows × 8 columns</p>\n",
       "</div>"
      ],
      "text/plain": [
       "     work_year  experience_level  employment_type  job_title  salary_in_usd  \\\n",
       "0         2022                 3                2          2       140250.0   \n",
       "1         2022                 3                2          2       135000.0   \n",
       "2         2021                 2                2          4       100000.0   \n",
       "3         2021                 2                0          3       270000.0   \n",
       "4         2021                 2                2          2        26005.0   \n",
       "..         ...               ...              ...        ...            ...   \n",
       "602       2022                 3                2          4            NaN   \n",
       "603       2022                 3                2          1            NaN   \n",
       "604       2022                 3                2          1            NaN   \n",
       "605       2022                 1                2          4            NaN   \n",
       "606       2022                 3                2          4            NaN   \n",
       "\n",
       "     remote_ratio  company_location  company_size  \n",
       "0             100                48             3  \n",
       "1             100                48             3  \n",
       "2             100                48             3  \n",
       "3             100                48             2  \n",
       "4               0                48             2  \n",
       "..            ...               ...           ...  \n",
       "602           100                48             3  \n",
       "603           100                48             3  \n",
       "604           100                48             3  \n",
       "605             0                 6             3  \n",
       "606             0                48             3  \n",
       "\n",
       "[607 rows x 8 columns]"
      ]
     },
     "execution_count": 55,
     "metadata": {},
     "output_type": "execute_result"
    }
   ],
   "source": [
    "salaries_X"
   ]
  },
  {
   "cell_type": "code",
   "execution_count": 56,
   "id": "8bea1496",
   "metadata": {},
   "outputs": [],
   "source": [
    "def limpiar_sal(col):\n",
    "    if col < 31243:\n",
    "        return 1\n",
    "    elif col > 31243 and col < 71445:\n",
    "        return 2\n",
    "    elif col > 71445:\n",
    "        return 3"
   ]
  },
  {
   "cell_type": "code",
   "execution_count": 57,
   "id": "c919d2f4",
   "metadata": {},
   "outputs": [
    {
     "data": {
      "text/plain": [
       "48    355\n",
       "18     47\n",
       "6      30\n",
       "12     28\n",
       "25     24\n",
       "17     15\n",
       "16     14\n",
       "19     11\n",
       "29      6\n",
       "41      4\n",
       "2       4\n",
       "40      4\n",
       "37      4\n",
       "39      3\n",
       "13      3\n",
       "3       3\n",
       "5       3\n",
       "0       3\n",
       "46      3\n",
       "31      3\n",
       "34      3\n",
       "7       2\n",
       "28      2\n",
       "11      2\n",
       "43      2\n",
       "4       2\n",
       "45      2\n",
       "36      2\n",
       "9       2\n",
       "33      1\n",
       "20      1\n",
       "24      1\n",
       "42      1\n",
       "44      1\n",
       "10      1\n",
       "26      1\n",
       "21      1\n",
       "38      1\n",
       "22      1\n",
       "27      1\n",
       "14      1\n",
       "15      1\n",
       "47      1\n",
       "8       1\n",
       "30      1\n",
       "49      1\n",
       "23      1\n",
       "1       1\n",
       "32      1\n",
       "35      1\n",
       "Name: company_location, dtype: int64"
      ]
     },
     "execution_count": 57,
     "metadata": {},
     "output_type": "execute_result"
    }
   ],
   "source": [
    "salaries_X.company_location.value_counts()"
   ]
  },
  {
   "cell_type": "code",
   "execution_count": 58,
   "id": "3c8f9afc",
   "metadata": {},
   "outputs": [],
   "source": [
    "salaries_X.salary_in_usd = salaries_X.salary_in_usd.apply(limpiar_sal)"
   ]
  },
  {
   "cell_type": "code",
   "execution_count": 59,
   "id": "3fd5bf7c",
   "metadata": {},
   "outputs": [],
   "source": [
    "salaries_X.rename(columns = {'salary_in_usd' : 'company_location1'}, inplace = True)"
   ]
  },
  {
   "cell_type": "code",
   "execution_count": 72,
   "id": "5a5ff68d",
   "metadata": {},
   "outputs": [
    {
     "data": {
      "text/html": [
       "<div>\n",
       "<style scoped>\n",
       "    .dataframe tbody tr th:only-of-type {\n",
       "        vertical-align: middle;\n",
       "    }\n",
       "\n",
       "    .dataframe tbody tr th {\n",
       "        vertical-align: top;\n",
       "    }\n",
       "\n",
       "    .dataframe thead th {\n",
       "        text-align: right;\n",
       "    }\n",
       "</style>\n",
       "<table border=\"1\" class=\"dataframe\">\n",
       "  <thead>\n",
       "    <tr style=\"text-align: right;\">\n",
       "      <th></th>\n",
       "      <th>work_year</th>\n",
       "      <th>experience_level</th>\n",
       "      <th>employment_type</th>\n",
       "      <th>job_title</th>\n",
       "      <th>company_location1</th>\n",
       "      <th>remote_ratio</th>\n",
       "      <th>company_location</th>\n",
       "      <th>company_size</th>\n",
       "    </tr>\n",
       "  </thead>\n",
       "  <tbody>\n",
       "    <tr>\n",
       "      <th>0</th>\n",
       "      <td>0.859977</td>\n",
       "      <td>0.761946</td>\n",
       "      <td>0.027854</td>\n",
       "      <td>-0.143366</td>\n",
       "      <td>3.0</td>\n",
       "      <td>0.714862</td>\n",
       "      <td>0.756121</td>\n",
       "      <td>0.836806</td>\n",
       "    </tr>\n",
       "    <tr>\n",
       "      <th>1</th>\n",
       "      <td>0.859977</td>\n",
       "      <td>0.761946</td>\n",
       "      <td>0.027854</td>\n",
       "      <td>-0.143366</td>\n",
       "      <td>3.0</td>\n",
       "      <td>0.714862</td>\n",
       "      <td>0.756121</td>\n",
       "      <td>0.836806</td>\n",
       "    </tr>\n",
       "    <tr>\n",
       "      <th>2</th>\n",
       "      <td>-0.586023</td>\n",
       "      <td>-0.512162</td>\n",
       "      <td>0.027854</td>\n",
       "      <td>1.597100</td>\n",
       "      <td>3.0</td>\n",
       "      <td>0.714862</td>\n",
       "      <td>0.756121</td>\n",
       "      <td>0.836806</td>\n",
       "    </tr>\n",
       "    <tr>\n",
       "      <th>3</th>\n",
       "      <td>-0.586023</td>\n",
       "      <td>-0.512162</td>\n",
       "      <td>-8.425971</td>\n",
       "      <td>0.726867</td>\n",
       "      <td>3.0</td>\n",
       "      <td>0.714862</td>\n",
       "      <td>0.756121</td>\n",
       "      <td>-0.558637</td>\n",
       "    </tr>\n",
       "    <tr>\n",
       "      <th>4</th>\n",
       "      <td>-0.586023</td>\n",
       "      <td>-0.512162</td>\n",
       "      <td>0.027854</td>\n",
       "      <td>-0.143366</td>\n",
       "      <td>1.0</td>\n",
       "      <td>-1.743615</td>\n",
       "      <td>0.756121</td>\n",
       "      <td>-0.558637</td>\n",
       "    </tr>\n",
       "    <tr>\n",
       "      <th>...</th>\n",
       "      <td>...</td>\n",
       "      <td>...</td>\n",
       "      <td>...</td>\n",
       "      <td>...</td>\n",
       "      <td>...</td>\n",
       "      <td>...</td>\n",
       "      <td>...</td>\n",
       "      <td>...</td>\n",
       "    </tr>\n",
       "    <tr>\n",
       "      <th>602</th>\n",
       "      <td>0.859977</td>\n",
       "      <td>0.761946</td>\n",
       "      <td>0.027854</td>\n",
       "      <td>1.597100</td>\n",
       "      <td>NaN</td>\n",
       "      <td>0.714862</td>\n",
       "      <td>0.756121</td>\n",
       "      <td>0.836806</td>\n",
       "    </tr>\n",
       "    <tr>\n",
       "      <th>603</th>\n",
       "      <td>0.859977</td>\n",
       "      <td>0.761946</td>\n",
       "      <td>0.027854</td>\n",
       "      <td>-1.013599</td>\n",
       "      <td>NaN</td>\n",
       "      <td>0.714862</td>\n",
       "      <td>0.756121</td>\n",
       "      <td>0.836806</td>\n",
       "    </tr>\n",
       "    <tr>\n",
       "      <th>604</th>\n",
       "      <td>0.859977</td>\n",
       "      <td>0.761946</td>\n",
       "      <td>0.027854</td>\n",
       "      <td>-1.013599</td>\n",
       "      <td>NaN</td>\n",
       "      <td>0.714862</td>\n",
       "      <td>0.756121</td>\n",
       "      <td>0.836806</td>\n",
       "    </tr>\n",
       "    <tr>\n",
       "      <th>605</th>\n",
       "      <td>0.859977</td>\n",
       "      <td>-1.786271</td>\n",
       "      <td>0.027854</td>\n",
       "      <td>1.597100</td>\n",
       "      <td>NaN</td>\n",
       "      <td>-1.743615</td>\n",
       "      <td>-1.865824</td>\n",
       "      <td>0.836806</td>\n",
       "    </tr>\n",
       "    <tr>\n",
       "      <th>606</th>\n",
       "      <td>0.859977</td>\n",
       "      <td>0.761946</td>\n",
       "      <td>0.027854</td>\n",
       "      <td>1.597100</td>\n",
       "      <td>NaN</td>\n",
       "      <td>-1.743615</td>\n",
       "      <td>0.756121</td>\n",
       "      <td>0.836806</td>\n",
       "    </tr>\n",
       "  </tbody>\n",
       "</table>\n",
       "<p>607 rows × 8 columns</p>\n",
       "</div>"
      ],
      "text/plain": [
       "     work_year  experience_level  employment_type  job_title  \\\n",
       "0     0.859977          0.761946         0.027854  -0.143366   \n",
       "1     0.859977          0.761946         0.027854  -0.143366   \n",
       "2    -0.586023         -0.512162         0.027854   1.597100   \n",
       "3    -0.586023         -0.512162        -8.425971   0.726867   \n",
       "4    -0.586023         -0.512162         0.027854  -0.143366   \n",
       "..         ...               ...              ...        ...   \n",
       "602   0.859977          0.761946         0.027854   1.597100   \n",
       "603   0.859977          0.761946         0.027854  -1.013599   \n",
       "604   0.859977          0.761946         0.027854  -1.013599   \n",
       "605   0.859977         -1.786271         0.027854   1.597100   \n",
       "606   0.859977          0.761946         0.027854   1.597100   \n",
       "\n",
       "     company_location1  remote_ratio  company_location  company_size  \n",
       "0                  3.0      0.714862          0.756121      0.836806  \n",
       "1                  3.0      0.714862          0.756121      0.836806  \n",
       "2                  3.0      0.714862          0.756121      0.836806  \n",
       "3                  3.0      0.714862          0.756121     -0.558637  \n",
       "4                  1.0     -1.743615          0.756121     -0.558637  \n",
       "..                 ...           ...               ...           ...  \n",
       "602                NaN      0.714862          0.756121      0.836806  \n",
       "603                NaN      0.714862          0.756121      0.836806  \n",
       "604                NaN      0.714862          0.756121      0.836806  \n",
       "605                NaN     -1.743615         -1.865824      0.836806  \n",
       "606                NaN     -1.743615          0.756121      0.836806  \n",
       "\n",
       "[607 rows x 8 columns]"
      ]
     },
     "execution_count": 72,
     "metadata": {},
     "output_type": "execute_result"
    }
   ],
   "source": [
    "salaries_X"
   ]
  },
  {
   "cell_type": "code",
   "execution_count": 61,
   "id": "68569e27",
   "metadata": {},
   "outputs": [],
   "source": [
    "#salaries_X.drop('company_location', axis = 1, inplace = True)"
   ]
  },
  {
   "cell_type": "code",
   "execution_count": 62,
   "id": "3df04c94",
   "metadata": {},
   "outputs": [],
   "source": [
    "#salaries_X.rename(columns = {'average_salary_location' : 'company_location'}, inplace = True)"
   ]
  },
  {
   "cell_type": "code",
   "execution_count": 63,
   "id": "b69a2e84",
   "metadata": {},
   "outputs": [],
   "source": [
    "cols = ['work_year', 'experience_level', 'employment_type', 'job_title',\n",
    "       'remote_ratio', 'company_size', 'company_location']"
   ]
  },
  {
   "cell_type": "code",
   "execution_count": 64,
   "id": "ba08480a",
   "metadata": {},
   "outputs": [],
   "source": [
    "#normalizamos el dataframe\n"
   ]
  },
  {
   "cell_type": "code",
   "execution_count": 73,
   "id": "40d8893a",
   "metadata": {},
   "outputs": [
    {
     "data": {
      "text/html": [
       "<div>\n",
       "<style scoped>\n",
       "    .dataframe tbody tr th:only-of-type {\n",
       "        vertical-align: middle;\n",
       "    }\n",
       "\n",
       "    .dataframe tbody tr th {\n",
       "        vertical-align: top;\n",
       "    }\n",
       "\n",
       "    .dataframe thead th {\n",
       "        text-align: right;\n",
       "    }\n",
       "</style>\n",
       "<table border=\"1\" class=\"dataframe\">\n",
       "  <thead>\n",
       "    <tr style=\"text-align: right;\">\n",
       "      <th></th>\n",
       "      <th>work_year</th>\n",
       "      <th>experience_level</th>\n",
       "      <th>employment_type</th>\n",
       "      <th>job_title</th>\n",
       "      <th>company_location1</th>\n",
       "      <th>remote_ratio</th>\n",
       "      <th>company_location</th>\n",
       "      <th>company_size</th>\n",
       "    </tr>\n",
       "  </thead>\n",
       "  <tbody>\n",
       "    <tr>\n",
       "      <th>0</th>\n",
       "      <td>0.859977</td>\n",
       "      <td>0.761946</td>\n",
       "      <td>0.027854</td>\n",
       "      <td>-0.143366</td>\n",
       "      <td>3.0</td>\n",
       "      <td>0.714862</td>\n",
       "      <td>0.756121</td>\n",
       "      <td>0.836806</td>\n",
       "    </tr>\n",
       "    <tr>\n",
       "      <th>1</th>\n",
       "      <td>0.859977</td>\n",
       "      <td>0.761946</td>\n",
       "      <td>0.027854</td>\n",
       "      <td>-0.143366</td>\n",
       "      <td>3.0</td>\n",
       "      <td>0.714862</td>\n",
       "      <td>0.756121</td>\n",
       "      <td>0.836806</td>\n",
       "    </tr>\n",
       "    <tr>\n",
       "      <th>2</th>\n",
       "      <td>-0.586023</td>\n",
       "      <td>-0.512162</td>\n",
       "      <td>0.027854</td>\n",
       "      <td>1.597100</td>\n",
       "      <td>3.0</td>\n",
       "      <td>0.714862</td>\n",
       "      <td>0.756121</td>\n",
       "      <td>0.836806</td>\n",
       "    </tr>\n",
       "    <tr>\n",
       "      <th>3</th>\n",
       "      <td>-0.586023</td>\n",
       "      <td>-0.512162</td>\n",
       "      <td>-8.425971</td>\n",
       "      <td>0.726867</td>\n",
       "      <td>3.0</td>\n",
       "      <td>0.714862</td>\n",
       "      <td>0.756121</td>\n",
       "      <td>-0.558637</td>\n",
       "    </tr>\n",
       "    <tr>\n",
       "      <th>4</th>\n",
       "      <td>-0.586023</td>\n",
       "      <td>-0.512162</td>\n",
       "      <td>0.027854</td>\n",
       "      <td>-0.143366</td>\n",
       "      <td>1.0</td>\n",
       "      <td>-1.743615</td>\n",
       "      <td>0.756121</td>\n",
       "      <td>-0.558637</td>\n",
       "    </tr>\n",
       "    <tr>\n",
       "      <th>...</th>\n",
       "      <td>...</td>\n",
       "      <td>...</td>\n",
       "      <td>...</td>\n",
       "      <td>...</td>\n",
       "      <td>...</td>\n",
       "      <td>...</td>\n",
       "      <td>...</td>\n",
       "      <td>...</td>\n",
       "    </tr>\n",
       "    <tr>\n",
       "      <th>602</th>\n",
       "      <td>0.859977</td>\n",
       "      <td>0.761946</td>\n",
       "      <td>0.027854</td>\n",
       "      <td>1.597100</td>\n",
       "      <td>NaN</td>\n",
       "      <td>0.714862</td>\n",
       "      <td>0.756121</td>\n",
       "      <td>0.836806</td>\n",
       "    </tr>\n",
       "    <tr>\n",
       "      <th>603</th>\n",
       "      <td>0.859977</td>\n",
       "      <td>0.761946</td>\n",
       "      <td>0.027854</td>\n",
       "      <td>-1.013599</td>\n",
       "      <td>NaN</td>\n",
       "      <td>0.714862</td>\n",
       "      <td>0.756121</td>\n",
       "      <td>0.836806</td>\n",
       "    </tr>\n",
       "    <tr>\n",
       "      <th>604</th>\n",
       "      <td>0.859977</td>\n",
       "      <td>0.761946</td>\n",
       "      <td>0.027854</td>\n",
       "      <td>-1.013599</td>\n",
       "      <td>NaN</td>\n",
       "      <td>0.714862</td>\n",
       "      <td>0.756121</td>\n",
       "      <td>0.836806</td>\n",
       "    </tr>\n",
       "    <tr>\n",
       "      <th>605</th>\n",
       "      <td>0.859977</td>\n",
       "      <td>-1.786271</td>\n",
       "      <td>0.027854</td>\n",
       "      <td>1.597100</td>\n",
       "      <td>NaN</td>\n",
       "      <td>-1.743615</td>\n",
       "      <td>-1.865824</td>\n",
       "      <td>0.836806</td>\n",
       "    </tr>\n",
       "    <tr>\n",
       "      <th>606</th>\n",
       "      <td>0.859977</td>\n",
       "      <td>0.761946</td>\n",
       "      <td>0.027854</td>\n",
       "      <td>1.597100</td>\n",
       "      <td>NaN</td>\n",
       "      <td>-1.743615</td>\n",
       "      <td>0.756121</td>\n",
       "      <td>0.836806</td>\n",
       "    </tr>\n",
       "  </tbody>\n",
       "</table>\n",
       "<p>607 rows × 8 columns</p>\n",
       "</div>"
      ],
      "text/plain": [
       "     work_year  experience_level  employment_type  job_title  \\\n",
       "0     0.859977          0.761946         0.027854  -0.143366   \n",
       "1     0.859977          0.761946         0.027854  -0.143366   \n",
       "2    -0.586023         -0.512162         0.027854   1.597100   \n",
       "3    -0.586023         -0.512162        -8.425971   0.726867   \n",
       "4    -0.586023         -0.512162         0.027854  -0.143366   \n",
       "..         ...               ...              ...        ...   \n",
       "602   0.859977          0.761946         0.027854   1.597100   \n",
       "603   0.859977          0.761946         0.027854  -1.013599   \n",
       "604   0.859977          0.761946         0.027854  -1.013599   \n",
       "605   0.859977         -1.786271         0.027854   1.597100   \n",
       "606   0.859977          0.761946         0.027854   1.597100   \n",
       "\n",
       "     company_location1  remote_ratio  company_location  company_size  \n",
       "0                  3.0      0.714862          0.756121      0.836806  \n",
       "1                  3.0      0.714862          0.756121      0.836806  \n",
       "2                  3.0      0.714862          0.756121      0.836806  \n",
       "3                  3.0      0.714862          0.756121     -0.558637  \n",
       "4                  1.0     -1.743615          0.756121     -0.558637  \n",
       "..                 ...           ...               ...           ...  \n",
       "602                NaN      0.714862          0.756121      0.836806  \n",
       "603                NaN      0.714862          0.756121      0.836806  \n",
       "604                NaN      0.714862          0.756121      0.836806  \n",
       "605                NaN     -1.743615         -1.865824      0.836806  \n",
       "606                NaN     -1.743615          0.756121      0.836806  \n",
       "\n",
       "[607 rows x 8 columns]"
      ]
     },
     "execution_count": 73,
     "metadata": {},
     "output_type": "execute_result"
    }
   ],
   "source": [
    "salaries_X"
   ]
  },
  {
   "cell_type": "code",
   "execution_count": 65,
   "id": "8b7aec26",
   "metadata": {},
   "outputs": [],
   "source": [
    "scaler=StandardScaler()"
   ]
  },
  {
   "cell_type": "code",
   "execution_count": 66,
   "id": "a9e0a254",
   "metadata": {},
   "outputs": [],
   "source": [
    "salaries_X[cols] = scaler.fit_transform(salaries_X[cols])"
   ]
  },
  {
   "cell_type": "code",
   "execution_count": null,
   "id": "931980af",
   "metadata": {},
   "outputs": [],
   "source": [
    "#separamos testeo"
   ]
  },
  {
   "cell_type": "code",
   "execution_count": 68,
   "id": "55629113",
   "metadata": {},
   "outputs": [],
   "source": [
    "X = salaries_X[0:500]"
   ]
  },
  {
   "cell_type": "code",
   "execution_count": 69,
   "id": "706ebf42",
   "metadata": {},
   "outputs": [],
   "source": [
    "testeo = salaries_X[500:]"
   ]
  },
  {
   "cell_type": "code",
   "execution_count": 70,
   "id": "f4aff744",
   "metadata": {},
   "outputs": [],
   "source": [
    "testeo.reset_index(drop = True, inplace = True)"
   ]
  },
  {
   "cell_type": "code",
   "execution_count": 71,
   "id": "de2b2b71",
   "metadata": {},
   "outputs": [
    {
     "data": {
      "text/html": [
       "<div>\n",
       "<style scoped>\n",
       "    .dataframe tbody tr th:only-of-type {\n",
       "        vertical-align: middle;\n",
       "    }\n",
       "\n",
       "    .dataframe tbody tr th {\n",
       "        vertical-align: top;\n",
       "    }\n",
       "\n",
       "    .dataframe thead th {\n",
       "        text-align: right;\n",
       "    }\n",
       "</style>\n",
       "<table border=\"1\" class=\"dataframe\">\n",
       "  <thead>\n",
       "    <tr style=\"text-align: right;\">\n",
       "      <th></th>\n",
       "      <th>work_year</th>\n",
       "      <th>experience_level</th>\n",
       "      <th>employment_type</th>\n",
       "      <th>job_title</th>\n",
       "      <th>company_location1</th>\n",
       "      <th>remote_ratio</th>\n",
       "      <th>company_location</th>\n",
       "      <th>company_size</th>\n",
       "    </tr>\n",
       "  </thead>\n",
       "  <tbody>\n",
       "    <tr>\n",
       "      <th>0</th>\n",
       "      <td>-2.032024</td>\n",
       "      <td>0.761946</td>\n",
       "      <td>0.027854</td>\n",
       "      <td>0.726867</td>\n",
       "      <td>NaN</td>\n",
       "      <td>-1.743615</td>\n",
       "      <td>-0.429997</td>\n",
       "      <td>-1.954080</td>\n",
       "    </tr>\n",
       "    <tr>\n",
       "      <th>1</th>\n",
       "      <td>-2.032024</td>\n",
       "      <td>-0.512162</td>\n",
       "      <td>0.027854</td>\n",
       "      <td>1.597100</td>\n",
       "      <td>NaN</td>\n",
       "      <td>0.714862</td>\n",
       "      <td>0.756121</td>\n",
       "      <td>-0.558637</td>\n",
       "    </tr>\n",
       "    <tr>\n",
       "      <th>2</th>\n",
       "      <td>-2.032024</td>\n",
       "      <td>-0.512162</td>\n",
       "      <td>0.027854</td>\n",
       "      <td>1.597100</td>\n",
       "      <td>NaN</td>\n",
       "      <td>0.714862</td>\n",
       "      <td>0.756121</td>\n",
       "      <td>-0.558637</td>\n",
       "    </tr>\n",
       "    <tr>\n",
       "      <th>3</th>\n",
       "      <td>-2.032024</td>\n",
       "      <td>-0.512162</td>\n",
       "      <td>0.027854</td>\n",
       "      <td>0.726867</td>\n",
       "      <td>NaN</td>\n",
       "      <td>-1.743615</td>\n",
       "      <td>-1.678542</td>\n",
       "      <td>0.836806</td>\n",
       "    </tr>\n",
       "    <tr>\n",
       "      <th>4</th>\n",
       "      <td>-2.032024</td>\n",
       "      <td>-0.512162</td>\n",
       "      <td>0.027854</td>\n",
       "      <td>1.597100</td>\n",
       "      <td>NaN</td>\n",
       "      <td>0.714862</td>\n",
       "      <td>-0.679706</td>\n",
       "      <td>-0.558637</td>\n",
       "    </tr>\n",
       "    <tr>\n",
       "      <th>...</th>\n",
       "      <td>...</td>\n",
       "      <td>...</td>\n",
       "      <td>...</td>\n",
       "      <td>...</td>\n",
       "      <td>...</td>\n",
       "      <td>...</td>\n",
       "      <td>...</td>\n",
       "      <td>...</td>\n",
       "    </tr>\n",
       "    <tr>\n",
       "      <th>102</th>\n",
       "      <td>0.859977</td>\n",
       "      <td>0.761946</td>\n",
       "      <td>0.027854</td>\n",
       "      <td>1.597100</td>\n",
       "      <td>NaN</td>\n",
       "      <td>0.714862</td>\n",
       "      <td>0.756121</td>\n",
       "      <td>0.836806</td>\n",
       "    </tr>\n",
       "    <tr>\n",
       "      <th>103</th>\n",
       "      <td>0.859977</td>\n",
       "      <td>0.761946</td>\n",
       "      <td>0.027854</td>\n",
       "      <td>-1.013599</td>\n",
       "      <td>NaN</td>\n",
       "      <td>0.714862</td>\n",
       "      <td>0.756121</td>\n",
       "      <td>0.836806</td>\n",
       "    </tr>\n",
       "    <tr>\n",
       "      <th>104</th>\n",
       "      <td>0.859977</td>\n",
       "      <td>0.761946</td>\n",
       "      <td>0.027854</td>\n",
       "      <td>-1.013599</td>\n",
       "      <td>NaN</td>\n",
       "      <td>0.714862</td>\n",
       "      <td>0.756121</td>\n",
       "      <td>0.836806</td>\n",
       "    </tr>\n",
       "    <tr>\n",
       "      <th>105</th>\n",
       "      <td>0.859977</td>\n",
       "      <td>-1.786271</td>\n",
       "      <td>0.027854</td>\n",
       "      <td>1.597100</td>\n",
       "      <td>NaN</td>\n",
       "      <td>-1.743615</td>\n",
       "      <td>-1.865824</td>\n",
       "      <td>0.836806</td>\n",
       "    </tr>\n",
       "    <tr>\n",
       "      <th>106</th>\n",
       "      <td>0.859977</td>\n",
       "      <td>0.761946</td>\n",
       "      <td>0.027854</td>\n",
       "      <td>1.597100</td>\n",
       "      <td>NaN</td>\n",
       "      <td>-1.743615</td>\n",
       "      <td>0.756121</td>\n",
       "      <td>0.836806</td>\n",
       "    </tr>\n",
       "  </tbody>\n",
       "</table>\n",
       "<p>107 rows × 8 columns</p>\n",
       "</div>"
      ],
      "text/plain": [
       "     work_year  experience_level  employment_type  job_title  \\\n",
       "0    -2.032024          0.761946         0.027854   0.726867   \n",
       "1    -2.032024         -0.512162         0.027854   1.597100   \n",
       "2    -2.032024         -0.512162         0.027854   1.597100   \n",
       "3    -2.032024         -0.512162         0.027854   0.726867   \n",
       "4    -2.032024         -0.512162         0.027854   1.597100   \n",
       "..         ...               ...              ...        ...   \n",
       "102   0.859977          0.761946         0.027854   1.597100   \n",
       "103   0.859977          0.761946         0.027854  -1.013599   \n",
       "104   0.859977          0.761946         0.027854  -1.013599   \n",
       "105   0.859977         -1.786271         0.027854   1.597100   \n",
       "106   0.859977          0.761946         0.027854   1.597100   \n",
       "\n",
       "     company_location1  remote_ratio  company_location  company_size  \n",
       "0                  NaN     -1.743615         -0.429997     -1.954080  \n",
       "1                  NaN      0.714862          0.756121     -0.558637  \n",
       "2                  NaN      0.714862          0.756121     -0.558637  \n",
       "3                  NaN     -1.743615         -1.678542      0.836806  \n",
       "4                  NaN      0.714862         -0.679706     -0.558637  \n",
       "..                 ...           ...               ...           ...  \n",
       "102                NaN      0.714862          0.756121      0.836806  \n",
       "103                NaN      0.714862          0.756121      0.836806  \n",
       "104                NaN      0.714862          0.756121      0.836806  \n",
       "105                NaN     -1.743615         -1.865824      0.836806  \n",
       "106                NaN     -1.743615          0.756121      0.836806  \n",
       "\n",
       "[107 rows x 8 columns]"
      ]
     },
     "execution_count": 71,
     "metadata": {},
     "output_type": "execute_result"
    }
   ],
   "source": [
    "testeo"
   ]
  },
  {
   "cell_type": "markdown",
   "id": "923a8f71",
   "metadata": {},
   "source": [
    "**PREDICCIONES**"
   ]
  },
  {
   "cell_type": "code",
   "execution_count": null,
   "id": "54ebec2f",
   "metadata": {},
   "outputs": [],
   "source": [
    "#DIVISIONES \n",
    "\n",
    "X_train, X_test, y_train, y_test = tts(X, y, train_size=0.8, test_size=0.2, random_state=22)\n",
    "\n",
    "X_train.shape, X_test.shape, y_train.shape, y_test.shape"
   ]
  },
  {
   "cell_type": "markdown",
   "id": "dd11dec5",
   "metadata": {},
   "source": [
    "-- RFR --"
   ]
  },
  {
   "cell_type": "code",
   "execution_count": null,
   "id": "c6aac95d",
   "metadata": {},
   "outputs": [],
   "source": [
    "from sklearn.ensemble import RandomForestRegressor as RFR  "
   ]
  },
  {
   "cell_type": "code",
   "execution_count": null,
   "id": "8eb9d8cd",
   "metadata": {},
   "outputs": [],
   "source": [
    "rfr=RFR()"
   ]
  },
  {
   "cell_type": "code",
   "execution_count": null,
   "id": "40ac4633",
   "metadata": {},
   "outputs": [],
   "source": [
    "rfr.fit(X_train, y_train)"
   ]
  },
  {
   "cell_type": "code",
   "execution_count": null,
   "id": "91cd34f0",
   "metadata": {},
   "outputs": [],
   "source": [
    "y_pred = rfr.predict(X_test)"
   ]
  },
  {
   "cell_type": "code",
   "execution_count": null,
   "id": "9fab5bdb",
   "metadata": {},
   "outputs": [],
   "source": [
    "from sklearn.metrics import mean_squared_error as mse   "
   ]
  },
  {
   "cell_type": "code",
   "execution_count": null,
   "id": "8b22647c",
   "metadata": {},
   "outputs": [],
   "source": [
    "mse(y_test, y_pred, squared = False)"
   ]
  },
  {
   "cell_type": "code",
   "execution_count": null,
   "id": "26fe4076",
   "metadata": {},
   "outputs": [],
   "source": [
    "y_pred = rfr.predict(testeo)"
   ]
  },
  {
   "cell_type": "code",
   "execution_count": null,
   "id": "01a49fe3",
   "metadata": {},
   "outputs": [],
   "source": [
    "y_pred"
   ]
  },
  {
   "cell_type": "code",
   "execution_count": null,
   "id": "b34623bf",
   "metadata": {},
   "outputs": [],
   "source": [
    "prueba = pd.DataFrame(y_pred, columns = ['salary_in_usd'])"
   ]
  },
  {
   "cell_type": "code",
   "execution_count": null,
   "id": "c8d914a7",
   "metadata": {},
   "outputs": [],
   "source": [
    "prueba.to_csv('../data/prueba5.csv', index_label = 'ID')"
   ]
  },
  {
   "cell_type": "code",
   "execution_count": null,
   "id": "712c67f7",
   "metadata": {},
   "outputs": [],
   "source": []
  }
 ],
 "metadata": {
  "kernelspec": {
   "display_name": "Python 3 (ipykernel)",
   "language": "python",
   "name": "python3"
  },
  "language_info": {
   "codemirror_mode": {
    "name": "ipython",
    "version": 3
   },
   "file_extension": ".py",
   "mimetype": "text/x-python",
   "name": "python",
   "nbconvert_exporter": "python",
   "pygments_lexer": "ipython3",
   "version": "3.9.12"
  }
 },
 "nbformat": 4,
 "nbformat_minor": 5
}
