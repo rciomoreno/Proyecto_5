{
 "cells": [
  {
   "cell_type": "code",
   "execution_count": 1,
   "id": "ad3f4695",
   "metadata": {},
   "outputs": [],
   "source": [
    "import pandas as pd\n",
    "from sklearn.preprocessing import LabelEncoder, OrdinalEncoder\n",
    "from sklearn.preprocessing import StandardScaler\n",
    "from sklearn.model_selection import train_test_split as tts   \n",
    "import pylab as plt\n",
    "import seaborn as sns\n",
    "import numpy as np\n",
    "#modelos: regresiones y clasificación\n",
    "#regresion lineal y regresiones\n",
    "#lineal\n",
    "from sklearn.linear_model import LinearRegression as LinReg\n",
    "from sklearn.linear_model import Lasso        \n",
    "from sklearn.linear_model import Ridge        \n",
    "from sklearn.linear_model import ElasticNet   \n",
    "# support vector regressor\n",
    "from sklearn.svm import SVR  # support vector regressor\n",
    "#random forest\n",
    "from sklearn.ensemble import RandomForestRegressor as RFR  \n",
    "from sklearn.tree import ExtraTreeRegressor as ETR\n",
    "#boosting\n",
    "from sklearn.ensemble import GradientBoostingRegressor as GBR\n",
    "from xgboost import XGBRegressor as XGBR\n",
    "from catboost import CatBoostRegressor as CTR\n",
    "from lightgbm import LGBMRegressor as LGBMR\n",
    "#clasificacion\n",
    "from sklearn.linear_model import LogisticRegression\n",
    "#clasificacion multi-etiqueta\n",
    "from sklearn.linear_model import LogisticRegression\n",
    "import warnings\n",
    "warnings.filterwarnings('ignore')\n",
    "from sklearn.metrics import mean_squared_error as mse  # error cuadratico medio\n",
    "from sklearn.preprocessing import StandardScaler"
   ]
  },
  {
   "cell_type": "code",
   "execution_count": 2,
   "id": "e51c9a6b",
   "metadata": {},
   "outputs": [],
   "source": [
    "#Importamos los datos \n",
    "salaries = pd.read_csv('../data/salaries_data.csv')\n",
    "testeo = pd.read_csv('../data/testeo.csv')"
   ]
  },
  {
   "cell_type": "code",
   "execution_count": 3,
   "id": "5ad44104",
   "metadata": {},
   "outputs": [
    {
     "data": {
      "text/plain": [
       "(500, 11)"
      ]
     },
     "execution_count": 3,
     "metadata": {},
     "output_type": "execute_result"
    }
   ],
   "source": [
    "salaries.shape"
   ]
  },
  {
   "cell_type": "code",
   "execution_count": 4,
   "id": "514743d4",
   "metadata": {},
   "outputs": [
    {
     "data": {
      "text/html": [
       "<div>\n",
       "<style scoped>\n",
       "    .dataframe tbody tr th:only-of-type {\n",
       "        vertical-align: middle;\n",
       "    }\n",
       "\n",
       "    .dataframe tbody tr th {\n",
       "        vertical-align: top;\n",
       "    }\n",
       "\n",
       "    .dataframe thead th {\n",
       "        text-align: right;\n",
       "    }\n",
       "</style>\n",
       "<table border=\"1\" class=\"dataframe\">\n",
       "  <thead>\n",
       "    <tr style=\"text-align: right;\">\n",
       "      <th></th>\n",
       "      <th>work_year</th>\n",
       "      <th>experience_level</th>\n",
       "      <th>employment_type</th>\n",
       "      <th>job_title</th>\n",
       "      <th>salary</th>\n",
       "      <th>salary_currency</th>\n",
       "      <th>salary_in_usd</th>\n",
       "      <th>employee_residence</th>\n",
       "      <th>remote_ratio</th>\n",
       "      <th>company_location</th>\n",
       "      <th>company_size</th>\n",
       "    </tr>\n",
       "  </thead>\n",
       "  <tbody>\n",
       "    <tr>\n",
       "      <th>0</th>\n",
       "      <td>2022</td>\n",
       "      <td>SE</td>\n",
       "      <td>FT</td>\n",
       "      <td>Data Engineer</td>\n",
       "      <td>140250</td>\n",
       "      <td>USD</td>\n",
       "      <td>140250</td>\n",
       "      <td>US</td>\n",
       "      <td>100</td>\n",
       "      <td>US</td>\n",
       "      <td>M</td>\n",
       "    </tr>\n",
       "    <tr>\n",
       "      <th>1</th>\n",
       "      <td>2022</td>\n",
       "      <td>SE</td>\n",
       "      <td>FT</td>\n",
       "      <td>Data Engineer</td>\n",
       "      <td>135000</td>\n",
       "      <td>USD</td>\n",
       "      <td>135000</td>\n",
       "      <td>US</td>\n",
       "      <td>100</td>\n",
       "      <td>US</td>\n",
       "      <td>M</td>\n",
       "    </tr>\n",
       "    <tr>\n",
       "      <th>2</th>\n",
       "      <td>2021</td>\n",
       "      <td>MI</td>\n",
       "      <td>FT</td>\n",
       "      <td>BI Data Analyst</td>\n",
       "      <td>100000</td>\n",
       "      <td>USD</td>\n",
       "      <td>100000</td>\n",
       "      <td>US</td>\n",
       "      <td>100</td>\n",
       "      <td>US</td>\n",
       "      <td>M</td>\n",
       "    </tr>\n",
       "    <tr>\n",
       "      <th>3</th>\n",
       "      <td>2021</td>\n",
       "      <td>MI</td>\n",
       "      <td>CT</td>\n",
       "      <td>ML Engineer</td>\n",
       "      <td>270000</td>\n",
       "      <td>USD</td>\n",
       "      <td>270000</td>\n",
       "      <td>US</td>\n",
       "      <td>100</td>\n",
       "      <td>US</td>\n",
       "      <td>L</td>\n",
       "    </tr>\n",
       "    <tr>\n",
       "      <th>4</th>\n",
       "      <td>2021</td>\n",
       "      <td>MI</td>\n",
       "      <td>FT</td>\n",
       "      <td>Data Engineer</td>\n",
       "      <td>22000</td>\n",
       "      <td>EUR</td>\n",
       "      <td>26005</td>\n",
       "      <td>RO</td>\n",
       "      <td>0</td>\n",
       "      <td>US</td>\n",
       "      <td>L</td>\n",
       "    </tr>\n",
       "    <tr>\n",
       "      <th>...</th>\n",
       "      <td>...</td>\n",
       "      <td>...</td>\n",
       "      <td>...</td>\n",
       "      <td>...</td>\n",
       "      <td>...</td>\n",
       "      <td>...</td>\n",
       "      <td>...</td>\n",
       "      <td>...</td>\n",
       "      <td>...</td>\n",
       "      <td>...</td>\n",
       "      <td>...</td>\n",
       "    </tr>\n",
       "    <tr>\n",
       "      <th>495</th>\n",
       "      <td>2022</td>\n",
       "      <td>SE</td>\n",
       "      <td>FT</td>\n",
       "      <td>Data Engineer</td>\n",
       "      <td>100000</td>\n",
       "      <td>USD</td>\n",
       "      <td>100000</td>\n",
       "      <td>US</td>\n",
       "      <td>100</td>\n",
       "      <td>US</td>\n",
       "      <td>M</td>\n",
       "    </tr>\n",
       "    <tr>\n",
       "      <th>496</th>\n",
       "      <td>2021</td>\n",
       "      <td>EN</td>\n",
       "      <td>FT</td>\n",
       "      <td>Big Data Engineer</td>\n",
       "      <td>435000</td>\n",
       "      <td>INR</td>\n",
       "      <td>5882</td>\n",
       "      <td>IN</td>\n",
       "      <td>0</td>\n",
       "      <td>CH</td>\n",
       "      <td>L</td>\n",
       "    </tr>\n",
       "    <tr>\n",
       "      <th>497</th>\n",
       "      <td>2022</td>\n",
       "      <td>SE</td>\n",
       "      <td>FT</td>\n",
       "      <td>Data Architect</td>\n",
       "      <td>90700</td>\n",
       "      <td>USD</td>\n",
       "      <td>90700</td>\n",
       "      <td>CA</td>\n",
       "      <td>100</td>\n",
       "      <td>CA</td>\n",
       "      <td>M</td>\n",
       "    </tr>\n",
       "    <tr>\n",
       "      <th>498</th>\n",
       "      <td>2021</td>\n",
       "      <td>MI</td>\n",
       "      <td>FT</td>\n",
       "      <td>Data Engineer</td>\n",
       "      <td>60000</td>\n",
       "      <td>GBP</td>\n",
       "      <td>82528</td>\n",
       "      <td>GB</td>\n",
       "      <td>100</td>\n",
       "      <td>GB</td>\n",
       "      <td>L</td>\n",
       "    </tr>\n",
       "    <tr>\n",
       "      <th>499</th>\n",
       "      <td>2021</td>\n",
       "      <td>EN</td>\n",
       "      <td>FT</td>\n",
       "      <td>Computer Vision Software Engineer</td>\n",
       "      <td>70000</td>\n",
       "      <td>USD</td>\n",
       "      <td>70000</td>\n",
       "      <td>US</td>\n",
       "      <td>100</td>\n",
       "      <td>US</td>\n",
       "      <td>M</td>\n",
       "    </tr>\n",
       "  </tbody>\n",
       "</table>\n",
       "<p>500 rows × 11 columns</p>\n",
       "</div>"
      ],
      "text/plain": [
       "     work_year experience_level employment_type  \\\n",
       "0         2022               SE              FT   \n",
       "1         2022               SE              FT   \n",
       "2         2021               MI              FT   \n",
       "3         2021               MI              CT   \n",
       "4         2021               MI              FT   \n",
       "..         ...              ...             ...   \n",
       "495       2022               SE              FT   \n",
       "496       2021               EN              FT   \n",
       "497       2022               SE              FT   \n",
       "498       2021               MI              FT   \n",
       "499       2021               EN              FT   \n",
       "\n",
       "                             job_title  salary salary_currency  salary_in_usd  \\\n",
       "0                        Data Engineer  140250             USD         140250   \n",
       "1                        Data Engineer  135000             USD         135000   \n",
       "2                      BI Data Analyst  100000             USD         100000   \n",
       "3                          ML Engineer  270000             USD         270000   \n",
       "4                        Data Engineer   22000             EUR          26005   \n",
       "..                                 ...     ...             ...            ...   \n",
       "495                      Data Engineer  100000             USD         100000   \n",
       "496                  Big Data Engineer  435000             INR           5882   \n",
       "497                     Data Architect   90700             USD          90700   \n",
       "498                      Data Engineer   60000             GBP          82528   \n",
       "499  Computer Vision Software Engineer   70000             USD          70000   \n",
       "\n",
       "    employee_residence  remote_ratio company_location company_size  \n",
       "0                   US           100               US            M  \n",
       "1                   US           100               US            M  \n",
       "2                   US           100               US            M  \n",
       "3                   US           100               US            L  \n",
       "4                   RO             0               US            L  \n",
       "..                 ...           ...              ...          ...  \n",
       "495                 US           100               US            M  \n",
       "496                 IN             0               CH            L  \n",
       "497                 CA           100               CA            M  \n",
       "498                 GB           100               GB            L  \n",
       "499                 US           100               US            M  \n",
       "\n",
       "[500 rows x 11 columns]"
      ]
     },
     "execution_count": 4,
     "metadata": {},
     "output_type": "execute_result"
    }
   ],
   "source": [
    "salaries"
   ]
  },
  {
   "cell_type": "code",
   "execution_count": 5,
   "id": "d9acebfd",
   "metadata": {},
   "outputs": [],
   "source": [
    "stats=salaries.describe().T\n",
    "stats['IQR']=stats['75%']-stats['25%']\n",
    "outliers=pd.DataFrame(columns=stats.index)\n",
    "for c in stats.index:\n",
    "    iqr=stats.at[c, 'IQR']\n",
    "    cutoff=1.5 * iqr   # test de tukey\n",
    "    lower=stats.at[c, '25%'] - cutoff\n",
    "    upper=stats.at[c, '75%'] + cutoff\n",
    "    res=salaries[(salaries[c] < lower) | (salaries[c] > upper)].copy()\n",
    "    res['outliers']=c\n",
    "    outliers=outliers.append(res, sort=True)\n",
    "outliers['outliers'].value_counts()\n",
    "clean_index=[i for i in salaries.index if i not in outliers.index]\n",
    "salaries=salaries.iloc[clean_index]"
   ]
  },
  {
   "cell_type": "code",
   "execution_count": 6,
   "id": "2925562d",
   "metadata": {},
   "outputs": [
    {
     "data": {
      "text/plain": [
       "(463, 11)"
      ]
     },
     "execution_count": 6,
     "metadata": {},
     "output_type": "execute_result"
    }
   ],
   "source": [
    "salaries.shape"
   ]
  },
  {
   "cell_type": "code",
   "execution_count": 7,
   "id": "2a6920f1",
   "metadata": {},
   "outputs": [],
   "source": [
    "#creamos la y\n",
    "y = salaries.salary_in_usd"
   ]
  },
  {
   "cell_type": "code",
   "execution_count": 8,
   "id": "e49758f4",
   "metadata": {},
   "outputs": [],
   "source": [
    "#juntamos los dos dataframes para hacerles los cambios a la vez"
   ]
  },
  {
   "cell_type": "code",
   "execution_count": 9,
   "id": "3de05414",
   "metadata": {},
   "outputs": [],
   "source": [
    "sal_test = pd.concat([salaries, testeo])"
   ]
  },
  {
   "cell_type": "code",
   "execution_count": 10,
   "id": "d3439ccb",
   "metadata": {},
   "outputs": [
    {
     "data": {
      "text/plain": [
       "(570, 11)"
      ]
     },
     "execution_count": 10,
     "metadata": {},
     "output_type": "execute_result"
    }
   ],
   "source": [
    "sal_test.shape"
   ]
  },
  {
   "cell_type": "code",
   "execution_count": 11,
   "id": "e1e843b2",
   "metadata": {},
   "outputs": [
    {
     "data": {
      "text/html": [
       "<div>\n",
       "<style scoped>\n",
       "    .dataframe tbody tr th:only-of-type {\n",
       "        vertical-align: middle;\n",
       "    }\n",
       "\n",
       "    .dataframe tbody tr th {\n",
       "        vertical-align: top;\n",
       "    }\n",
       "\n",
       "    .dataframe thead th {\n",
       "        text-align: right;\n",
       "    }\n",
       "</style>\n",
       "<table border=\"1\" class=\"dataframe\">\n",
       "  <thead>\n",
       "    <tr style=\"text-align: right;\">\n",
       "      <th></th>\n",
       "      <th>work_year</th>\n",
       "      <th>experience_level</th>\n",
       "      <th>employment_type</th>\n",
       "      <th>job_title</th>\n",
       "      <th>salary</th>\n",
       "      <th>salary_currency</th>\n",
       "      <th>salary_in_usd</th>\n",
       "      <th>employee_residence</th>\n",
       "      <th>remote_ratio</th>\n",
       "      <th>company_location</th>\n",
       "      <th>company_size</th>\n",
       "    </tr>\n",
       "  </thead>\n",
       "  <tbody>\n",
       "    <tr>\n",
       "      <th>0</th>\n",
       "      <td>2022</td>\n",
       "      <td>SE</td>\n",
       "      <td>FT</td>\n",
       "      <td>Data Engineer</td>\n",
       "      <td>140250</td>\n",
       "      <td>USD</td>\n",
       "      <td>140250.0</td>\n",
       "      <td>US</td>\n",
       "      <td>100</td>\n",
       "      <td>US</td>\n",
       "      <td>M</td>\n",
       "    </tr>\n",
       "    <tr>\n",
       "      <th>1</th>\n",
       "      <td>2022</td>\n",
       "      <td>SE</td>\n",
       "      <td>FT</td>\n",
       "      <td>Data Engineer</td>\n",
       "      <td>135000</td>\n",
       "      <td>USD</td>\n",
       "      <td>135000.0</td>\n",
       "      <td>US</td>\n",
       "      <td>100</td>\n",
       "      <td>US</td>\n",
       "      <td>M</td>\n",
       "    </tr>\n",
       "    <tr>\n",
       "      <th>2</th>\n",
       "      <td>2021</td>\n",
       "      <td>MI</td>\n",
       "      <td>FT</td>\n",
       "      <td>BI Data Analyst</td>\n",
       "      <td>100000</td>\n",
       "      <td>USD</td>\n",
       "      <td>100000.0</td>\n",
       "      <td>US</td>\n",
       "      <td>100</td>\n",
       "      <td>US</td>\n",
       "      <td>M</td>\n",
       "    </tr>\n",
       "    <tr>\n",
       "      <th>3</th>\n",
       "      <td>2021</td>\n",
       "      <td>MI</td>\n",
       "      <td>CT</td>\n",
       "      <td>ML Engineer</td>\n",
       "      <td>270000</td>\n",
       "      <td>USD</td>\n",
       "      <td>270000.0</td>\n",
       "      <td>US</td>\n",
       "      <td>100</td>\n",
       "      <td>US</td>\n",
       "      <td>L</td>\n",
       "    </tr>\n",
       "    <tr>\n",
       "      <th>4</th>\n",
       "      <td>2021</td>\n",
       "      <td>MI</td>\n",
       "      <td>FT</td>\n",
       "      <td>Data Engineer</td>\n",
       "      <td>22000</td>\n",
       "      <td>EUR</td>\n",
       "      <td>26005.0</td>\n",
       "      <td>RO</td>\n",
       "      <td>0</td>\n",
       "      <td>US</td>\n",
       "      <td>L</td>\n",
       "    </tr>\n",
       "  </tbody>\n",
       "</table>\n",
       "</div>"
      ],
      "text/plain": [
       "   work_year experience_level employment_type        job_title  salary  \\\n",
       "0       2022               SE              FT    Data Engineer  140250   \n",
       "1       2022               SE              FT    Data Engineer  135000   \n",
       "2       2021               MI              FT  BI Data Analyst  100000   \n",
       "3       2021               MI              CT      ML Engineer  270000   \n",
       "4       2021               MI              FT    Data Engineer   22000   \n",
       "\n",
       "  salary_currency  salary_in_usd employee_residence  remote_ratio  \\\n",
       "0             USD       140250.0                 US           100   \n",
       "1             USD       135000.0                 US           100   \n",
       "2             USD       100000.0                 US           100   \n",
       "3             USD       270000.0                 US           100   \n",
       "4             EUR        26005.0                 RO             0   \n",
       "\n",
       "  company_location company_size  \n",
       "0               US            M  \n",
       "1               US            M  \n",
       "2               US            M  \n",
       "3               US            L  \n",
       "4               US            L  "
      ]
     },
     "execution_count": 11,
     "metadata": {},
     "output_type": "execute_result"
    }
   ],
   "source": [
    "sal_test.head()"
   ]
  },
  {
   "cell_type": "code",
   "execution_count": 12,
   "id": "0f541df1",
   "metadata": {},
   "outputs": [],
   "source": [
    "#sal_test.drop(['salary_currency', 'salary', 'employee_residence'], axis = 1, inplace = True)"
   ]
  },
  {
   "cell_type": "code",
   "execution_count": 13,
   "id": "1d63f688",
   "metadata": {},
   "outputs": [],
   "source": [
    "sal_test.drop(['salary_currency', 'salary', 'employee_residence'], axis = 1, inplace = True)"
   ]
  },
  {
   "cell_type": "code",
   "execution_count": 14,
   "id": "fdcb6537",
   "metadata": {},
   "outputs": [],
   "source": [
    "#vamos a ver los valores únicos de cada columna con categorías para pasarlas a numéricas"
   ]
  },
  {
   "cell_type": "code",
   "execution_count": 15,
   "id": "5e1e05c1",
   "metadata": {},
   "outputs": [
    {
     "data": {
      "text/plain": [
       "array(['M', 'L', 'S'], dtype=object)"
      ]
     },
     "execution_count": 15,
     "metadata": {},
     "output_type": "execute_result"
    }
   ],
   "source": [
    "sal_test.experience_level.unique()\n",
    "sal_test.employment_type.unique()\n",
    "sal_test.job_title.unique()\n",
    "sal_test.remote_ratio.unique()\n",
    "sal_test.company_location.unique()\n",
    "sal_test.company_size.unique()"
   ]
  },
  {
   "cell_type": "code",
   "execution_count": 16,
   "id": "7f693591",
   "metadata": {},
   "outputs": [
    {
     "name": "stdout",
     "output_type": "stream",
     "text": [
      "<class 'pandas.core.frame.DataFrame'>\n",
      "Int64Index: 570 entries, 0 to 106\n",
      "Data columns (total 8 columns):\n",
      " #   Column            Non-Null Count  Dtype  \n",
      "---  ------            --------------  -----  \n",
      " 0   work_year         570 non-null    int64  \n",
      " 1   experience_level  570 non-null    object \n",
      " 2   employment_type   570 non-null    object \n",
      " 3   job_title         570 non-null    object \n",
      " 4   salary_in_usd     463 non-null    float64\n",
      " 5   remote_ratio      570 non-null    int64  \n",
      " 6   company_location  570 non-null    object \n",
      " 7   company_size      570 non-null    object \n",
      "dtypes: float64(1), int64(2), object(5)\n",
      "memory usage: 189.4 KB\n"
     ]
    }
   ],
   "source": [
    "#tipos de dato y nulos\n",
    "sal_test.info(memory_usage = 'deep')"
   ]
  },
  {
   "cell_type": "markdown",
   "id": "f8252917",
   "metadata": {},
   "source": [
    "**OUTLIERS**"
   ]
  },
  {
   "cell_type": "code",
   "execution_count": 17,
   "id": "e7868116",
   "metadata": {},
   "outputs": [
    {
     "data": {
      "text/plain": [
       "<AxesSubplot:>"
      ]
     },
     "execution_count": 17,
     "metadata": {},
     "output_type": "execute_result"
    },
    {
     "data": {
      "image/png": "[encoded data removed]",
      "text/plain": [
       "<Figure size 432x288 with 1 Axes>"
      ]
     },
     "metadata": {
      "needs_background": "light"
     },
     "output_type": "display_data"
    }
   ],
   "source": [
    "#outliers\n",
    "sns.boxplot(data = sal_test)\n",
    "#salary_in_usd nos da igual porque es la y la quitaremos"
   ]
  },
  {
   "cell_type": "code",
   "execution_count": 18,
   "id": "866ccdfa",
   "metadata": {},
   "outputs": [],
   "source": [
    "#probamos con get_dummies de todo\n",
    "#sal_test=pd.get_dummies(sal_test, columns=['experience_level', 'employment_type', 'job_title',\\\n",
    " #                                       'remote_ratio', 'company_location', 'company_size', 'work_year', 'employee_residence'], drop_first=True)\n"
   ]
  },
  {
   "cell_type": "code",
   "execution_count": 20,
   "id": "dd7bdfaa",
   "metadata": {},
   "outputs": [],
   "source": [
    "#ahora vamos a probar con un get_dummies de todo menos los años\n",
    "sal_test=pd.get_dummies(sal_test, columns=['experience_level', 'employment_type', 'job_title',\\\n",
    "                                         #'remote_ratio', \n",
    "                                           'company_location', 'company_size'], drop_first=True)\n"
   ]
  },
  {
   "cell_type": "markdown",
   "id": "cec112ef",
   "metadata": {},
   "source": [
    "**NORMALIZACIÓN**"
   ]
  },
  {
   "cell_type": "code",
   "execution_count": 21,
   "id": "60fed395",
   "metadata": {},
   "outputs": [],
   "source": [
    "#hacemos este bucle para sacar todas las columnas porque son muchísimas\n",
    "cols = []\n",
    "for e in sal_test.columns:\n",
    "    cols.append(e)\n",
    "\n",
    "scaler=StandardScaler() #aquí probamos a normalizar solo la columna de año\n",
    "sal_test[['work_year', 'remote_ratio']] = scaler.fit_transform(sal_test[['work_year', 'remote_ratio']])\n"
   ]
  },
  {
   "cell_type": "code",
   "execution_count": 22,
   "id": "2b2f51fd",
   "metadata": {},
   "outputs": [],
   "source": [
    "#le quitamos y a nuestro dataframe\n",
    "sal_test.drop('salary_in_usd', axis = 1, inplace = True)"
   ]
  },
  {
   "cell_type": "code",
   "execution_count": 23,
   "id": "23bb3a22",
   "metadata": {},
   "outputs": [],
   "source": [
    "#volvemos a separar la muestra de testeo\n",
    "sal_test1 = sal_test[0:463]\n",
    "testeo = sal_test[463:]"
   ]
  },
  {
   "cell_type": "code",
   "execution_count": 24,
   "id": "49bc128f",
   "metadata": {},
   "outputs": [],
   "source": [
    "X = sal_test1"
   ]
  },
  {
   "cell_type": "code",
   "execution_count": 25,
   "id": "28ce27da",
   "metadata": {},
   "outputs": [],
   "source": [
    "pd.set_option('display.max_rows', None)"
   ]
  },
  {
   "cell_type": "code",
   "execution_count": 26,
   "id": "996c69ac",
   "metadata": {},
   "outputs": [
    {
     "data": {
      "text/plain": [
       "(463, 102)"
      ]
     },
     "execution_count": 26,
     "metadata": {},
     "output_type": "execute_result"
    }
   ],
   "source": [
    "X.shape"
   ]
  },
  {
   "cell_type": "code",
   "execution_count": null,
   "id": "ce152794",
   "metadata": {},
   "outputs": [],
   "source": []
  },
  {
   "cell_type": "markdown",
   "id": "adba2046",
   "metadata": {},
   "source": [
    "**PREDICCIONES**"
   ]
  },
  {
   "cell_type": "markdown",
   "id": "aea04c07",
   "metadata": {},
   "source": [
    "Creando los 4 paquetes de datos"
   ]
  },
  {
   "cell_type": "code",
   "execution_count": 27,
   "id": "ddf83c7b",
   "metadata": {},
   "outputs": [
    {
     "data": {
      "text/plain": [
       "((370, 102), (93, 102), (370,), (93,))"
      ]
     },
     "execution_count": 27,
     "metadata": {},
     "output_type": "execute_result"
    }
   ],
   "source": [
    "X_train, X_test, y_train, y_test = tts(X, y, train_size=0.8, test_size=0.2, random_state=22)\n",
    "\n",
    "X_train.shape, X_test.shape, y_train.shape, y_test.shape"
   ]
  },
  {
   "cell_type": "code",
   "execution_count": 28,
   "id": "2b5c15ae",
   "metadata": {},
   "outputs": [
    {
     "name": "stdout",
     "output_type": "stream",
     "text": [
      "<class 'pandas.core.frame.DataFrame'>\n",
      "Int64Index: 370 entries, 410 to 401\n",
      "Columns: 102 entries, work_year to company_size_S\n",
      "dtypes: float64(2), uint8(100)\n",
      "memory usage: 44.8 KB\n"
     ]
    }
   ],
   "source": [
    "X_train.info()"
   ]
  },
  {
   "cell_type": "code",
   "execution_count": 29,
   "id": "2ee3c3d0",
   "metadata": {},
   "outputs": [],
   "source": [
    "def predecir(x_train, x_test, y_train, y_test):\n",
    "    #inicializamos todos los modelos que vamos a probar\n",
    "    svr=SVR()\n",
    "    rfr=RFR()\n",
    "    etr=ETR()\n",
    "    gbr=GBR()\n",
    "    xgbr=XGBR()\n",
    "    ctr=CTR()\n",
    "    linreg=LinReg()\n",
    "    lasso=Lasso()\n",
    "    ridge=Ridge()\n",
    "    elastic=ElasticNet()\n",
    "    #lgbmr=LGBMR()\n",
    "    #los entrenamos\n",
    "    svr.fit(x_train, y_train)\n",
    "    rfr.fit(x_train, y_train)\n",
    "    etr.fit(x_train, y_train)\n",
    "    gbr.fit(x_train, y_train)\n",
    "    xgbr.fit(x_train, y_train)\n",
    "    ctr.fit(x_train, y_train, verbose=0)\n",
    "    linreg.fit(x_train, y_train)\n",
    "    lasso.fit(x_train, y_train)\n",
    "    ridge.fit(x_train, y_train)\n",
    "    elastic.fit(x_train, y_train)\n",
    "    #lgbmr.fit(x_train, y_train)\n",
    "    #predecimos\n",
    "    y_pred1 = svr.predict(x_test)\n",
    "    y_pred2 = rfr.predict(x_test)\n",
    "    y_pred3 = etr.predict(x_test)\n",
    "    y_pred4 = gbr.predict(x_test)\n",
    "    y_pred5 = xgbr.predict(x_test)\n",
    "    y_pred6 = ctr.predict(x_test)\n",
    "    y_pred7 = linreg.predict(x_test)\n",
    "    y_pred8 = lasso.predict(x_test)\n",
    "    y_pred9 = ridge.predict(x_test)\n",
    "    y_pred10 = elastic.predict(x_test)\n",
    "   # y_pred11 = lgbmr.predict(x_test)\n",
    "    #calculamos error cuadrático medio (mse)\n",
    "    mse1 = mse(y_test, y_pred1, squared=False)\n",
    "    mse2 = mse(y_test, y_pred2, squared=False)\n",
    "    mse3 = mse(y_test, y_pred3, squared=False)\n",
    "    mse4 = mse(y_test, y_pred4, squared=False)\n",
    "    mse5 = mse(y_test, y_pred5, squared=False)\n",
    "    mse6 = mse(y_test, y_pred6, squared=False)\n",
    "    mse7 = mse(y_test, y_pred7, squared=False)\n",
    "    mse8 = mse(y_test, y_pred8, squared=False)\n",
    "    mse9 = mse(y_test, y_pred9, squared=False)\n",
    "    mse10 = mse(y_test, y_pred10, squared=False)\n",
    "    #mse11 = mse(y_test, y_pred11, squared=False)\n",
    "    #creamos una lista con todos los mse\n",
    "    temp = [mse1, mse2, mse3, mse4, mse5, mse6, mse7, mse8, mse9, mse10] #mse11]\n",
    "    #pedimos a la función que nos devuelva el valor más bajo de mse   \n",
    "    minimo = min(temp)\n",
    "    #le ponemos un mensajito para que quede más mono\n",
    "    if minimo == mse1:\n",
    "        return f'El mejor modelo es SVR con un mse de {mse1}'\n",
    "    elif minimo == mse2:\n",
    "        return f'El mejor modelo es RFR con un mse de {mse2}'\n",
    "    elif minimo == mse3:\n",
    "        return f'El mejor modelo es ETR con un mse de {mse3}'\n",
    "    elif minimo == mse4:\n",
    "        return f'El mejor modelo es GBR con un mse de {mse4}'\n",
    "    elif minimo == mse5:\n",
    "        return f'El mejor modelo es XGBR con un mse de {mse5}'\n",
    "    elif minimo == mse6:\n",
    "        return f'El mejor modelo es CTR con un mse de {mse6}'\n",
    "    elif minimo == mse7:\n",
    "        return f'El mejor modelo es LINREG con un mse de {mse7}'\n",
    "    elif minimo == mse8:\n",
    "        return f'El mejor modelo es LASSO con un mse de {mse8}'\n",
    "    elif minimo == mse9:\n",
    "        return f'El mejor modelo es RIDGE con un mse de {mse9}'\n",
    "    elif minimo == mse10:\n",
    "        return f'El mejor modelo es ELASTIC con un mse de {mse10}'\n",
    "   # elif minimo == mse11:\n",
    "      #  return f'El mejor modelo es LGBMR con un mse de {mse11}'"
   ]
  },
  {
   "cell_type": "code",
   "execution_count": 30,
   "id": "d55aba90",
   "metadata": {},
   "outputs": [
    {
     "data": {
      "text/plain": [
       "'El mejor modelo es RIDGE con un mse de 34207.94432400609'"
      ]
     },
     "execution_count": 30,
     "metadata": {},
     "output_type": "execute_result"
    }
   ],
   "source": [
    "predecir(X_train, X_test, y_train, y_test)"
   ]
  },
  {
   "cell_type": "code",
   "execution_count": 31,
   "id": "ad837ebc",
   "metadata": {},
   "outputs": [],
   "source": [
    "#Vamos a probar el modelo que nos ha dado la función con testeo\n",
    "ridge=Ridge()\n",
    "ridge.fit(X_train, y_train)\n",
    "y_pred = ridge.predict(testeo)"
   ]
  },
  {
   "cell_type": "code",
   "execution_count": 32,
   "id": "3e0b9010",
   "metadata": {},
   "outputs": [],
   "source": [
    "#guardamos las predicciones en un nuevo dataframe y en un archivo csv\n",
    "prueba = pd.DataFrame(y_pred, columns = ['salary_in_usd'])"
   ]
  },
  {
   "cell_type": "code",
   "execution_count": 33,
   "id": "338a07ce",
   "metadata": {},
   "outputs": [],
   "source": [
    "prueba.to_csv('../data/prueba14.csv', index_label = 'ID')"
   ]
  },
  {
   "cell_type": "code",
   "execution_count": 34,
   "id": "a4b1f5aa",
   "metadata": {},
   "outputs": [],
   "source": [
    "#prueba8 es el que más bajo ha dado\n",
    "#quitando employee_residence, normalizando work_year y quitando outliers es el mejor que da"
   ]
  },
  {
   "cell_type": "code",
   "execution_count": null,
   "id": "fc3b990b",
   "metadata": {},
   "outputs": [],
   "source": []
  }
 ],
 "metadata": {
  "kernelspec": {
   "display_name": "Python 3 (ipykernel)",
   "language": "python",
   "name": "python3"
  },
  "language_info": {
   "codemirror_mode": {
    "name": "ipython",
    "version": 3
   },
   "file_extension": ".py",
   "mimetype": "text/x-python",
   "name": "python",
   "nbconvert_exporter": "python",
   "pygments_lexer": "ipython3",
   "version": "3.9.12"
  }
 },
 "nbformat": 4,
 "nbformat_minor": 5
}
